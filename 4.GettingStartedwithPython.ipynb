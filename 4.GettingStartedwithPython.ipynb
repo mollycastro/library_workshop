{
 "cells": [
  {
   "cell_type": "markdown",
   "id": "eb70ebfd",
   "metadata": {},
   "source": [
    "<img align=\"left\" src=\"https://ithaka-labs.s3.amazonaws.com/static-files/images/tdm/tdmdocs/CC_BY.png\"><br/>\n",
    "\n",
    "Adapted by [Kate Kryder](https://library.northeastern.edu/about/library-staff-directory/kate-kryder) from two notebooks created by [Nathan Kelber](http://nkelber.com) and Ted Lawless for [JSTOR Labs](https://labs.jstor.org/) under [Creative Commons CC BY License](https://creativecommons.org/licenses/by/4.0/).<br/> See [here](https://docs.tdm-pilot.org/tag/beginner-lessons/) for the original versions. Some content was also adapted from notebooks created by [Sarah Connell](https://library.northeastern.edu/about/library-staff-directory/sarah-connell) and [Jen Ferguson](https://library.northeastern.edu/about/library-staff-directory/jen-ferguson) for earlier versions of this workshop.<br />\n",
    "___"
   ]
  },
  {
   "cell_type": "markdown",
   "id": "503b392b",
   "metadata": {},
   "source": [
    "# What is Python?\n",
    "Python is a programming language that allows us to write instructions for a computer. We call these instructions \"code.\"\n",
    "\n",
    "Behind the scenes of our computers, there are millions of lines of code written in many different programming languages that make it possible for us to use them. For example, if you want to delete a file called \"untitled.txt\" on your computer, you probably drag-and-drop that file into your desktop trashcan. When this happens, behind the scenes, a programming language like Python runs a piece of code like this:\n",
    "\n",
    "> os.remove(\"untitled.txt\")\n",
    "\n",
    "Today, we will be writing instructions in Python for the virtual computer inside this Jupyter Notebook."
   ]
  },
  {
   "cell_type": "markdown",
   "id": "d67ecb3b",
   "metadata": {},
   "source": [
    "# What does Python code look like?\n",
    "Python code has two parts:\n",
    "1. Comments\n",
    "2. Code\n",
    "\n",
    "Take a look at the example below. The ```#``` symbol denotes a comment, which contains explanatory notes for us as the reader. The ```1 + 1``` is the actual code and contains the instructions for the computer."
   ]
  },
  {
   "cell_type": "code",
   "execution_count": null,
   "id": "74d85abe",
   "metadata": {},
   "outputs": [],
   "source": [
    "# this is a comment\n",
    "1 + 1"
   ]
  },
  {
   "cell_type": "markdown",
   "id": "9e4e91aa",
   "metadata": {},
   "source": [
    "Learning to write Python is a bit like learning to write a foreign language. In the beginning, you will probably make some mistakes while writing your code that will make it impossible for the computer to understand.\n",
    "\n",
    "Helpfully, if you make a mistake, Python will output an error message to try to help you find the problem. Try running the code below to produce an error:"
   ]
  },
  {
   "cell_type": "code",
   "execution_count": null,
   "id": "a6870f40",
   "metadata": {},
   "outputs": [],
   "source": [
    "1 +"
   ]
  },
  {
   "cell_type": "markdown",
   "id": "672790e2",
   "metadata": {},
   "source": [
    "# What can I do with Python?\n",
    "Python can do four main things:\n",
    "1. Basic operations (such as calculator math)\n",
    "1. Save variables\n",
    "1. Built-in functions\n",
    "1. Custom functions"
   ]
  },
  {
   "cell_type": "markdown",
   "id": "6f098fdf",
   "metadata": {},
   "source": [
    "## 1. Basic operations\n",
    "The simplest thing you can do in Python is use basic operators (such as ``+``,``-``,``*``, or ``/``) to do calculator math. As an example, try running the code below:"
   ]
  },
  {
   "cell_type": "code",
   "execution_count": null,
   "id": "0234d379",
   "metadata": {},
   "outputs": [],
   "source": [
    "1 + 1"
   ]
  },
  {
   "cell_type": "markdown",
   "id": "dd35ef7e",
   "metadata": {},
   "source": [
    "You should see an output appear with the answer. This whole ```1+1``` line of code is called an [expression](https://constellate.org/docs/key-terms/#expression), the ```+``` is called an [operator](https://constellate.org/docs/key-terms/#operator), and the numbers are called values.\n",
    "\n",
    "\n",
    "\n",
    "> Note: Spaces do not matter here. You can write ```1+1```, ```1 + 1```, or even ```1+ 1``` and all of them will run successfully.\n",
    "\n",
    "Try writing and running your own basic operation here:"
   ]
  },
  {
   "cell_type": "code",
   "execution_count": null,
   "id": "252abc68",
   "metadata": {},
   "outputs": [],
   "source": [
    "# try your own basic operation here"
   ]
  },
  {
   "cell_type": "markdown",
   "id": "2cfcf20d",
   "metadata": {},
   "source": [
    "There are also more advanced operators, such as those used to make comparisons. These return an output of \"True\" or \"False\" depending on whether or not the comparison is true. These comparison operators include:\n",
    "* ``>`` greater than\n",
    "* ``<`` less than\n",
    "* ``>=`` greater than or equal to\n",
    "* ``<=`` less than or equal to\n",
    "* ``==`` equal to\n",
    "\n",
    "As an example, try running the code below:"
   ]
  },
  {
   "cell_type": "code",
   "execution_count": null,
   "id": "e2d6cea6",
   "metadata": {},
   "outputs": [],
   "source": [
    "1 < 4"
   ]
  },
  {
   "cell_type": "markdown",
   "id": "f5bca22c",
   "metadata": {},
   "source": [
    "The output here is \"True\" because 1 *is* less than 4. Try writing and running your own comparison operation here:"
   ]
  },
  {
   "cell_type": "code",
   "execution_count": null,
   "id": "50f91288",
   "metadata": {},
   "outputs": [],
   "source": [
    "# try your own comparison operation here"
   ]
  },
  {
   "cell_type": "markdown",
   "id": "e4bbc6a6",
   "metadata": {},
   "source": [
    "To learn more about operators, check out this [list of Python operators](https://www.w3schools.com/python/python_operators.asp)."
   ]
  },
  {
   "cell_type": "markdown",
   "id": "b956fc88",
   "metadata": {},
   "source": [
    "## 2. Save Variables\n",
    "Python allows you to create and name containers that you can store your data in. These containers are called [variables](https://www.w3schools.com/python/python_variables.asp). You can name your variable just about anything you want, but the name must follow these rules:\n",
    "* must contain only letters, numbers, and _ (e.g. cannot contain spaces or symbols like #)\n",
    "* can't start with a number\n",
    "* is case sensitive (e.g. number, Number, and NUMBER are three different variables)\n",
    "\n",
    "For example, try running the code below that creates a variable called ```myNumber``` and sets its initial value equal to 1."
   ]
  },
  {
   "cell_type": "code",
   "execution_count": null,
   "id": "27e7a8e9",
   "metadata": {},
   "outputs": [],
   "source": [
    "myNumber = 1"
   ]
  },
  {
   "cell_type": "markdown",
   "id": "f425663d",
   "metadata": {},
   "source": [
    "A line of code like this that uses the ```=``` operator is called an assignment statement and sets the value of a variable. Now that the value has been set, try using the variable in the code below: "
   ]
  },
  {
   "cell_type": "code",
   "execution_count": null,
   "id": "216e41bd",
   "metadata": {},
   "outputs": [],
   "source": [
    "myNumber * 10"
   ]
  },
  {
   "cell_type": "markdown",
   "id": "d0f0d560",
   "metadata": {},
   "source": [
    "You can also update the value of your variable by using another assignment statement. Try updating the value of your variable below:"
   ]
  },
  {
   "cell_type": "code",
   "execution_count": null,
   "id": "2a3efa46",
   "metadata": {},
   "outputs": [],
   "source": [
    "myNumber = 2"
   ]
  },
  {
   "cell_type": "markdown",
   "id": "17ff0b6d",
   "metadata": {},
   "source": [
    "Now try running this line of code again and see how the output changes:"
   ]
  },
  {
   "cell_type": "code",
   "execution_count": null,
   "id": "87c9720c",
   "metadata": {},
   "outputs": [],
   "source": [
    "myNumber * 10"
   ]
  },
  {
   "cell_type": "markdown",
   "id": "1702e55a",
   "metadata": {},
   "source": [
    "To learn more about variable names, check out this [guide to variable names](https://www.w3schools.com/python/python_variables_names.asp)."
   ]
  },
  {
   "cell_type": "markdown",
   "id": "e47d4334",
   "metadata": {},
   "source": [
    "## 3. Built-in Functions\n",
    "A function is a command in Python that executes a set of pre-written instructions, without you having to write them out each time. You give the function an input and the function runs its instructions and gives you back an output. \n",
    "\n",
    "Python has many built-in functions, including the following for popular math equations:\n",
    "* ``abs(x)`` returns the absolute value of x\n",
    "* ``round(x)`` rounds x\n",
    "* ``pow(x,y)`` returns the value of x to the power of y\n",
    "\n",
    "As an example, try running the code below:"
   ]
  },
  {
   "cell_type": "code",
   "execution_count": null,
   "id": "eafb914a",
   "metadata": {},
   "outputs": [],
   "source": [
    "abs(-1)"
   ]
  },
  {
   "cell_type": "markdown",
   "id": "8f22ec95",
   "metadata": {},
   "source": [
    "Now try running your own built-in function example here:"
   ]
  },
  {
   "cell_type": "code",
   "execution_count": null,
   "id": "6408b5a6",
   "metadata": {},
   "outputs": [],
   "source": [
    "# try running your own built-in function example here"
   ]
  },
  {
   "cell_type": "markdown",
   "id": "38edbda9",
   "metadata": {},
   "source": [
    "To learn more about built-in functions, check out this [list of built-in Python functions](https://www.w3schools.com/python/python_ref_functions.asp)."
   ]
  },
  {
   "cell_type": "markdown",
   "id": "019dfc3d",
   "metadata": {},
   "source": [
    "## 4. Custom Functions\n",
    "You can also name and write your own custom functions with pre-written instructions that can be saved and used later. \n",
    "\n",
    "For example, see this function that adds one to a number:"
   ]
  },
  {
   "cell_type": "code",
   "execution_count": null,
   "id": "369759ea",
   "metadata": {},
   "outputs": [],
   "source": [
    "def addOne(someInputNumber):\n",
    "    outputNumber = someInputNumber + 1\n",
    "    return outputNumber"
   ]
  },
  {
   "cell_type": "markdown",
   "id": "cbbc50de",
   "metadata": {},
   "source": [
    "Try using this function to add 1 to the number 10 by running ``addOne(10)`` below:"
   ]
  },
  {
   "cell_type": "code",
   "execution_count": null,
   "id": "72081f98",
   "metadata": {},
   "outputs": [],
   "source": [
    "addOne(10)"
   ]
  },
  {
   "cell_type": "markdown",
   "id": "14a2e345",
   "metadata": {},
   "source": [
    "Now try using the function on your own number here:"
   ]
  },
  {
   "cell_type": "code",
   "execution_count": null,
   "id": "cad5d992",
   "metadata": {},
   "outputs": [],
   "source": [
    "# try using the addOne function on your own example number here"
   ]
  },
  {
   "cell_type": "markdown",
   "id": "6fa89995",
   "metadata": {},
   "source": [
    "To learn more about custom functions, check out this [guide to Python functions](https://www.w3schools.com/python/python_functions.asp)."
   ]
  },
  {
   "cell_type": "markdown",
   "id": "07ab3de9",
   "metadata": {},
   "source": [
    "# What types of data can Python use?\n",
    "Python can work with many different types of data including numbers and text. For a full list, check out this [list of Python data types](https://www.w3schools.com/python/python_datatypes.asp).\n",
    "\n",
    "For this workshop, will mainly be using the three following basic types of data:\n",
    "\n",
    "\n",
    "<table>\n",
    "    <tr style=\"background-color:white; font-weight:bold\">\n",
    "        <td>Data</td>\n",
    "        <td style=\"text-align:center\">Python \"Data Type\"</td>\n",
    "        <td style=\"text-align:center\">Example</td>\n",
    "    </tr>\n",
    "    <tr>\n",
    "        <td>Whole number</td>\n",
    "        <td style=\"text-align:center\">int (\"integer\")</td>\n",
    "        <td style=\"text-align:center\">534</td>\n",
    "    </tr>\n",
    "    <tr style=\"background-color:white\">\n",
    "        <td>Decimal</td>\n",
    "        <td style=\"text-align:center\">float</td>\n",
    "        <td style=\"text-align:center\">6.3</td>\n",
    "    </tr>\n",
    "    <tr>\n",
    "        <td>Text</td>\n",
    "        <td style=\"text-align:center\">str (\"string\")</td>\n",
    "        <td style=\"text-align:center\">\"hello\"</td>\n",
    "    </tr>\n",
    "</table>\n",
    "\n",
    "To figure out the type of a particular piece of data, use the built-in ```type()``` function, like so:"
   ]
  },
  {
   "cell_type": "code",
   "execution_count": null,
   "id": "565dc657",
   "metadata": {},
   "outputs": [],
   "source": [
    "type(\"this is some example text\")"
   ]
  },
  {
   "cell_type": "markdown",
   "id": "591322fd",
   "metadata": {},
   "source": [
    "Try testing the data type of your own example below:"
   ]
  },
  {
   "cell_type": "code",
   "execution_count": null,
   "id": "3218f53c",
   "metadata": {},
   "outputs": [],
   "source": [
    "# try testing the data type of your own example"
   ]
  },
  {
   "cell_type": "markdown",
   "id": "bb7dee7a",
   "metadata": {},
   "source": [
    "# How does Python work with text?\n",
    "Python has all of the same functionality with text as it has with numbers, with a few subtle changes (e.g. it wouldn't really make sense to use ```abs()``` on text). To get a sense of how Python works with text data, check out the examples below.\n",
    "\n",
    "**Example 1: Basic operators.**\n",
    "\n",
    "For text, the ```+``` operator combines text. This action is called \"concatenation.\" Try concatenating two pieces of text together using the code below:"
   ]
  },
  {
   "cell_type": "code",
   "execution_count": null,
   "id": "a2deb08c",
   "metadata": {},
   "outputs": [],
   "source": [
    "\"Hoo\" + \"ray!\""
   ]
  },
  {
   "cell_type": "markdown",
   "id": "19a85101",
   "metadata": {},
   "source": [
    "**Example 2: Comparison operators.**\n",
    "\n",
    "For text, the ```==``` operator can be used to compare two pieces of text, including their capitalization. Try the example below:"
   ]
  },
  {
   "cell_type": "code",
   "execution_count": null,
   "id": "7746183c",
   "metadata": {},
   "outputs": [],
   "source": [
    "\"Example\" == \"example\""
   ]
  },
  {
   "cell_type": "markdown",
   "id": "ccac02f0",
   "metadata": {},
   "source": [
    "This returns \"False\" because, although the two words are the same, their capitalization does not match."
   ]
  },
  {
   "cell_type": "markdown",
   "id": "5fc35639",
   "metadata": {},
   "source": [
    "**Example 3: Built-in functions.**\n",
    "\n",
    "For text, there are useful built-in functions such as ```len()``` which outputs the length of a piece of text. Try the example below:"
   ]
  },
  {
   "cell_type": "code",
   "execution_count": null,
   "id": "affe952f",
   "metadata": {},
   "outputs": [],
   "source": [
    "len(\"Hooray!\")"
   ]
  },
  {
   "cell_type": "markdown",
   "id": "58822c96",
   "metadata": {},
   "source": [
    "**Example 4: Custom functions.**\n",
    "\n",
    "For text, custom functions can be defined in the same way they could for functions involving numbers. Try using the example function below that makes use of concatenation with the ```+``` operator and makes use of the built-in ```print()``` function to output text."
   ]
  },
  {
   "cell_type": "code",
   "execution_count": null,
   "id": "1774c854",
   "metadata": {},
   "outputs": [],
   "source": [
    "def sayHello(firstName, lastName):\n",
    "    whatToSay = \"Hello \" + firstName + \" \" + lastName + \"!\"\n",
    "    print(whatToSay)"
   ]
  },
  {
   "cell_type": "markdown",
   "id": "04c3d3fc",
   "metadata": {},
   "source": [
    "Try using the function with your own name by editing and running the code below:"
   ]
  },
  {
   "cell_type": "code",
   "execution_count": null,
   "id": "c3cc0961",
   "metadata": {},
   "outputs": [],
   "source": [
    "# edit this function to use your name\n",
    "sayHello(\"Jacinda\",\"Ardern\")"
   ]
  },
  {
   "cell_type": "markdown",
   "id": "d3f6304e",
   "metadata": {},
   "source": [
    "# Lesson complete!\n",
    "\n",
    "\n",
    "If you'd like to learn more Python, Constellate has published some great open Jupyter Notebook [lessons](https://docs.constellate.org/) including beginner and intermediate Python. There are many additional resources online for learning Python, such as [Python for Everybody](https://www.py4e.com/)."
   ]
  }
 ],
 "metadata": {
  "kernelspec": {
   "display_name": "Python 3",
   "language": "python",
   "name": "python3"
  },
  "language_info": {
   "codemirror_mode": {
    "name": "ipython",
    "version": 3
   },
   "file_extension": ".py",
   "mimetype": "text/x-python",
   "name": "python",
   "nbconvert_exporter": "python",
   "pygments_lexer": "ipython3",
   "version": "3.8.8"
  },
  "toc": {
   "base_numbering": 1,
   "nav_menu": {},
   "number_sections": false,
   "sideBar": false,
   "skip_h1_title": true,
   "title_cell": "Table of Contents",
   "title_sidebar": "Contents",
   "toc_cell": false,
   "toc_position": {
    "height": "100px",
    "left": "21px",
    "top": "133px",
    "width": "165px"
   },
   "toc_section_display": false,
   "toc_window_display": false
  }
 },
 "nbformat": 4,
 "nbformat_minor": 5
}
